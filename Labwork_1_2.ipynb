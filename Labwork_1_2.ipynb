{
 "cells": [
  {
   "cell_type": "code",
   "execution_count": 15,
   "metadata": {
    "collapsed": true
   },
   "outputs": [],
   "source": [
    "import numpy as np\n",
    "import sounddevice as sd\n",
    "import matplotlib.pyplot as plt "
   ]
  },
  {
   "cell_type": "code",
   "execution_count": 36,
   "metadata": {},
   "outputs": [],
   "source": [
    "fs = 44100.0\n",
    "sd.default.samplerate = fs\n",
    "A = 10000\n",
    "time = 2.0\n",
    "frequency = 0\n",
    "maxFrequency = 22000\n",
    "# Generate time of samples between 0 and two seconds\n",
    "samples = np.arange(fs * time) / fs\n",
    "while(frequency<=maxFrequency):\n",
    "    #print(frequency)\n",
    "    # Recall that a sinusoidal wave of frequency f has formula w(t) = A*sin(2*pi*f*t)\n",
    "    wave = A * np.cos(2 * np.pi * frequency * samples)\n",
    "    # Convert it to wav format (16 bits)\n",
    "    wav_wave = np.array(wave, dtype=np.int16)\n",
    "    sd.play(wav_wave, blocking=True)\n",
    "    frequency = frequency+10\n",
    "    "
   ]
  },
  {
   "cell_type": "code",
   "execution_count": 37,
   "metadata": {},
   "outputs": [
    {
     "data": {
      "text/plain": [
       "[<matplotlib.lines.Line2D at 0x283a713da90>]"
      ]
     },
     "execution_count": 37,
     "metadata": {},
     "output_type": "execute_result"
    },
    {
     "data": {
      "image/png": "[encoded data removed]",
      "text/plain": [
       "<Figure size 432x288 with 1 Axes>"
      ]
     },
     "metadata": {},
     "output_type": "display_data"
    }
   ],
   "source": [
    "\n",
    "def indices(list, filtr=lambda x: bool(x)):\n",
    "    return [i for i,x in enumerate(list) if filtr(x)]\n",
    "\n",
    "interval = np.arange(0,maxFrequency+10,10)\n",
    "sound_tracking = np.zeros((len(interval),), dtype=int)\n",
    "index1 = indices(interval, lambda x: x > 14400 or x<120)\n",
    "for i in index1:\n",
    "    sound_tracking[i] = 1\n",
    "    \n",
    "plt.plot(interval,-sound_tracking)"
   ]
  }
 ],
 "metadata": {
  "kernelspec": {
   "display_name": "Python 2",
   "language": "python",
   "name": "python2"
  },
  "language_info": {
   "codemirror_mode": {
    "name": "ipython",
    "version": 2
   },
   "file_extension": ".py",
   "mimetype": "text/x-python",
   "name": "python",
   "nbconvert_exporter": "python",
   "pygments_lexer": "ipython2",
   "version": "2.7.6"
  }
 },
 "nbformat": 4,
 "nbformat_minor": 0
}
