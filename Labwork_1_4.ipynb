{
 "cells": [
  {
   "cell_type": "code",
   "execution_count": 1,
   "metadata": {
    "collapsed": true
   },
   "outputs": [],
   "source": [
    "from scipy import signal\n",
    "import matplotlib.pyplot as plt\n",
    "import numpy as np\n",
    "import scipy as sc\n",
    "from scipy import signal\n",
    "import math"
   ]
  },
  {
   "cell_type": "code",
   "execution_count": null,
   "metadata": {},
   "outputs": [],
   "source": [
    "#%% Create one sinusoid f - 100\n",
    "Fs = 256\n",
    "t  = np.arange(0,0.5,1/Fs) \n",
    "A = 1\n",
    "f1 = 100\n",
    "phi = 0\n",
    "s_c1 = A * np.sin( 2*np.pi*f1*t + phi ) \n",
    "#%% create another sinusoid f - 156\n",
    "f2 = 156\n",
    "s_c2 = A * np.sin( 2*np.pi*f2*t + phi ) \n",
    "#%% Sum both signals\n",
    "sig = s_c1+s_c2\n",
    "\n",
    "plt.xlabel('continuous time')\n",
    "plt.ylabel('Amplitude')\n",
    "plt.title('Phase opposite signals s1 and s2, can be retrieved by the relation sin(a-b)')\n",
    "plt.plot(t,s_c1,t,s_c2)"
   ]
  },
  {
   "cell_type": "code",
   "execution_count": null,
   "metadata": {},
   "outputs": [],
   "source": [
    "plt.plot(t,sig)  \n",
    "plt.ylim([-1,1])\n",
    "plt.xlabel('continuous time')\n",
    "plt.ylabel('Amplitude')\n",
    "plt.title('Sum of signals s1 and s2 => zero sum')#% zero sum (numerical errors)"
   ]
  },
  {
   "cell_type": "code",
   "execution_count": 2,
   "metadata": {},
   "outputs": [],
   "source": [
    "#calculate tigonometric relation sin(a-b) f - 156\n",
    "f3= float(Fs-f2)/float(Fs)\n",
    "result = A * np.sin( 2*np.pi*f3*t)\n",
    "plt.plot(t,result)\n",
    "plt.xlabel('continuous time')\n",
    "plt.ylabel('Amplitude')\n",
    "plt.title('tigonometric relation sin(a-b)')"
   ]
  },
  {
   "cell_type": "code",
   "execution_count": null,
   "metadata": {},
   "outputs": [],
   "source": [
    "#%% Generate another signal\n",
    "f3 = 356 \n",
    "A3 = 1 \n",
    "phi3 = 0 \n",
    "f5 = 356\n",
    "s_c3 = A3 * np.sin( 2*np.pi*f3*t + phi3 ) \n",
    "plt.plot(t,s_c3)\n",
    "plt.xlabel('continuous time')\n",
    "plt.ylabel('Amplitude')"
   ]
  },
  {
   "cell_type": "code",
   "execution_count": null,
   "metadata": {},
   "outputs": [],
   "source": [
    "plt.plot(t,s_c1,t,s_c3)\n",
    "plt.xlabel('continuous time')\n",
    "plt.ylabel('Amplitude')\n",
    "plt.title('identical signals s1 and s3, can be retrieved by the relation sin(a+b)')"
   ]
  },
  {
   "cell_type": "code",
   "execution_count": null,
   "metadata": {},
   "outputs": [],
   "source": [
    "#%% calculate tigonometric relation sin(a+b) f - 100\n",
    "f4= (Fs+f1)/Fs\n",
    "result = A * np.sin( 2*np.pi*f4*t)\n",
    "plt.plot(t,result)\n",
    "plt.xlabel('continuous time')\n",
    "plt.ylabel('Amplitude')\n",
    "plt.title('tigonometric relation sin(a+b)')"
   ]
  },
  {
   "cell_type": "code",
   "execution_count": null,
   "metadata": {},
   "outputs": [],
   "source": [
    "#%% FFT for each signal and their sum\n",
    "L=len(sig)\n",
    "Y = np.fft.fft(sig)\n",
    "P2 = abs(Y/L)\n",
    "P1 = P2[0:int(L/2+1)]\n",
    "P1[1:-2] = 2*P1[1:-2]\n",
    "\n",
    "f = []\n",
    "for i in range(int(L/2+1)):\n",
    "        rez = float(Fs*i/L)\n",
    "        f.insert(i, rez)\n",
    "\n",
    "plt.plot(f,P1)\n",
    "plt.title('Single-Sided Amplitude Spectrum of S(t)')\n",
    "plt.xlabel('f (Hz)')\n",
    "plt.ylabel('|P1(f)|')"
   ]
  },
  {
   "cell_type": "code",
   "execution_count": 2,
   "metadata": {},
   "outputs": [],
   "source": [
    "L=len(s_c1)\n",
    "Y = np.fft.fft(s_c1)\n",
    "P2 = abs(Y/L)\n",
    "P1 = P2[1:int(L/2+1)]\n",
    "P1[1:-2] = 2*P1[1:-2]\n",
    "f = []\n",
    "for i in range(int(L/2)):\n",
    "        rez = float(float(Fs*i)/L)\n",
    "        f.insert(i, rez)\n",
    "plt.plot(f,P1) \n",
    "plt.title('Single-Sided Amplitude Spectrum of S(t)')\n",
    "plt.xlabel('f (Hz)')\n",
    "plt.ylabel('|P1(f)|')"
   ]
  },
  {
   "cell_type": "code",
   "execution_count": null,
   "metadata": {},
   "outputs": [],
   "source": [
    "L=len(s_c2)\n",
    "Y = np.fft.fft(s_c2)\n",
    "P2 = abs(Y/L)\n",
    "P1 = P2[1:int(L/2+1)]\n",
    "P1[1:-2] = 2*P1[1:-2]\n",
    "f = []\n",
    "for i in range(int(L/2)):\n",
    "        rez = float(float(Fs*i)/L)\n",
    "        f.insert(i, rez)\n",
    "plt.plot(f,P1) \n",
    "plt.title('Single-Sided Amplitude Spectrum of S(t)')\n",
    "plt.xlabel('f (Hz)')\n",
    "plt.ylabel('|P1(f)|')"
   ]
  },
  {
   "cell_type": "code",
   "execution_count": null,
   "metadata": {},
   "outputs": [],
   "source": []
  }
 ],
 "metadata": {
  "kernelspec": {
   "display_name": "Python 2",
   "language": "python",
   "name": "python2"
  },
  "language_info": {
   "codemirror_mode": {
    "name": "ipython",
    "version": 2
   },
   "file_extension": ".py",
   "mimetype": "text/x-python",
   "name": "python",
   "nbconvert_exporter": "python",
   "pygments_lexer": "ipython2",
   "version": "2.7.6"
  }
 },
 "nbformat": 4,
 "nbformat_minor": 0
}
